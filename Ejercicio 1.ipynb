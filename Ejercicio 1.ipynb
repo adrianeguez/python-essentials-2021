{
 "cells": [
  {
   "cell_type": "code",
   "execution_count": 19,
   "id": "50597fac",
   "metadata": {},
   "outputs": [
    {
     "name": "stdout",
     "output_type": "stream",
     "text": [
      "\n",
      "Empezando a trabajar con Python\n",
      "Realizado por: \"Vicente Adrian Eguez Sarzosa\"\n",
      "\n",
      "Consultando los tipos de valores:\n",
      "El tipo de dato de 875 es\n",
      "<class 'int'>\n",
      "El tipo de dato de 4.89 es\n",
      "<class 'float'>\n",
      "El tipo de dato del texto 'Now is better than never' es:\n",
      "<class 'str'>\n",
      "El tipo de dato de 1.32 es\n",
      "<class 'float'>\n",
      "¿El valor 5 + 8i corresponde a un valor entero?\n",
      "False\n",
      "¿El texto: 'Readability counts.' corresponde a un string?\n",
      "True\n"
     ]
    }
   ],
   "source": [
    "print(\"\"\"\n",
    "Empezando a trabajar con Python\n",
    "Realizado por: \"Vicente Adrian Eguez Sarzosa\"\n",
    "\"\"\")\n",
    "print(\"Consultando los tipos de valores:\")\n",
    "print(\"El tipo de dato de 875 es\")\n",
    "print(type(875))\n",
    "# Se uso type para validar el tipo de dato del valor\n",
    "\n",
    "print(\"El tipo de dato de 4.89 es\")\n",
    "print(type(4.89))\n",
    "# Se uso type para validar el tipo de dato del valor\n",
    "\n",
    "print(\"El tipo de dato del texto 'Now is better than never' es:\")\n",
    "print(type(\"Now is better than never\"))\n",
    "# Se uso type para validar el tipo de dato del valor\n",
    "\n",
    "print(\"El tipo de dato de 1.32 es\")\n",
    "print(type(1.32))\n",
    "# Se uso type para validar el tipo de dato del valor\n",
    "\n",
    "print(\"¿El valor 5 + 8i corresponde a un valor entero?\")\n",
    "print(isinstance(complex(2, 3), int))\n",
    "# Se uso isinstance para saber si la suma de un numero complejo es entero, es Falso\n",
    "\n",
    "print(\"¿El texto: 'Readability counts.' corresponde a un string?\")\n",
    "print(isinstance(\"Readability counts.\", str))\n",
    "# Se uso isinstance para saber si una cadena de caracteres es instancia de un str, es Verdadero"
   ]
  },
  {
   "cell_type": "code",
   "execution_count": 27,
   "id": "fdf2dd2c",
   "metadata": {},
   "outputs": [
    {
     "name": "stdout",
     "output_type": "stream",
     "text": [
      "Ingrese un valor cualquiera: 1\n",
      "Este tipo de dato en Pyhton es: \n",
      "<class 'str'>\n",
      "Ingrese un valor cualquiera: 2\n",
      "Este tipo de dato en Pyhton es: \n",
      "<class 'str'>\n",
      "Ingrese un valor cualquiera: 3\n",
      "Este tipo de dato en Pyhton es: \n",
      "<class 'str'>\n",
      "Ingrese un valor cualquiera: 4\n",
      "Este tipo de dato en Pyhton es: \n",
      "<class 'str'>\n",
      "Ingrese un valor cualquiera: 5\n",
      "Este tipo de dato en Pyhton es: \n",
      "<class 'str'>\n",
      "¡YA NO SE HARÁN MÁS INTERACCIONES!\n"
     ]
    }
   ],
   "source": [
    "iteraciones = range(5)\n",
    "numero_iteracion = 0\n",
    "while (numero_iteracion == iteraciones) iteracion in iteraciones:\n",
    "    print(\"Este tipo de dato en Pyhton es: \\n\" + str(type(input(\"Ingrese un valor cualquiera: \"))))\n",
    "print(\"¡YA NO SE HARÁN MÁS INTERACCIONES!\")"
   ]
  },
  {
   "cell_type": "markdown",
   "id": "cc101068",
   "metadata": {},
   "source": [
    "###### "
   ]
  }
 ],
 "metadata": {
  "kernelspec": {
   "display_name": "Python 3",
   "language": "python",
   "name": "python3"
  },
  "language_info": {
   "codemirror_mode": {
    "name": "ipython",
    "version": 3
   },
   "file_extension": ".py",
   "mimetype": "text/x-python",
   "name": "python",
   "nbconvert_exporter": "python",
   "pygments_lexer": "ipython3",
   "version": "3.8.8"
  }
 },
 "nbformat": 4,
 "nbformat_minor": 5
}
