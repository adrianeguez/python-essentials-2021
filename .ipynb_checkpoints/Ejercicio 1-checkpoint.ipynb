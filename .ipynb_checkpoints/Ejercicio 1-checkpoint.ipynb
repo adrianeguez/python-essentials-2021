{
 "cells": [
  {
   "cell_type": "code",
   "execution_count": 19,
   "id": "b697f1e7",
   "metadata": {},
   "outputs": [
    {
     "name": "stdout",
     "output_type": "stream",
     "text": [
      "\n",
      "Empezando a trabajar con Python\n",
      "Realizado por: \"Vicente Adrian Eguez Sarzosa\"\n",
      "\n",
      "Consultando los tipos de valores:\n",
      "El tipo de dato de 875 es\n",
      "<class 'int'>\n",
      "El tipo de dato de 4.89 es\n",
      "<class 'float'>\n",
      "El tipo de dato del texto 'Now is better than never' es:\n",
      "<class 'str'>\n",
      "El tipo de dato de 1.32 es\n",
      "<class 'float'>\n",
      "¿El valor 5 + 8i corresponde a un valor entero?\n",
      "False\n",
      "¿El texto: 'Readability counts.' corresponde a un string?\n",
      "True\n"
     ]
    }
   ],
   "source": [
    "print(\"\"\"\n",
    "Empezando a trabajar con Python\n",
    "Realizado por: \"Vicente Adrian Eguez Sarzosa\"\n",
    "\"\"\")\n",
    "print(\"Consultando los tipos de valores:\")\n",
    "print(\"El tipo de dato de 875 es\")\n",
    "print(type(875))\n",
    "# Se uso type para validar el tipo de dato del valor\n",
    "\n",
    "print(\"El tipo de dato de 4.89 es\")\n",
    "print(type(4.89))\n",
    "# Se uso type para validar el tipo de dato del valor\n",
    "\n",
    "print(\"El tipo de dato del texto 'Now is better than never' es:\")\n",
    "print(type(\"Now is better than never\"))\n",
    "# Se uso type para validar el tipo de dato del valor\n",
    "\n",
    "print(\"El tipo de dato de 1.32 es\")\n",
    "print(type(1.32))\n",
    "# Se uso type para validar el tipo de dato del valor\n",
    "\n",
    "print(\"¿El valor 5 + 8i corresponde a un valor entero?\")\n",
    "print(isinstance(complex(2, 3), int))\n",
    "# Se uso isinstance para saber si la suma de un numero complejo es entero, es Falso\n",
    "\n",
    "print(\"¿El texto: 'Readability counts.' corresponde a un string?\")\n",
    "print(isinstance(\"Readability counts.\", str))\n",
    "# Se uso isinstance para saber si una cadena de caracteres es instancia de un str, es Verdadero"
   ]
  },
  {
   "cell_type": "code",
   "execution_count": 1,
   "id": "d97a7ddc",
   "metadata": {},
   "outputs": [
    {
     "name": "stdout",
     "output_type": "stream",
     "text": [
      "Ingrese un valor cualquiera: \n",
      "Este tipo de dato en Pyhton es: \n",
      "<class 'str'>\n",
      "Ingrese un valor cualquiera: \n",
      "Este tipo de dato en Pyhton es: \n",
      "<class 'str'>\n",
      "Ingrese un valor cualquiera: \n",
      "Este tipo de dato en Pyhton es: \n",
      "<class 'str'>\n",
      "Ingrese un valor cualquiera: \n",
      "Este tipo de dato en Pyhton es: \n",
      "<class 'str'>\n",
      "Ingrese un valor cualquiera: \n",
      "Este tipo de dato en Pyhton es: \n",
      "<class 'str'>\n",
      "¡YA NO SE HARÁN MÁS INTERACCIONES!\n"
     ]
    }
   ],
   "source": [
    "iteraciones = 5\n",
    "numero_iteracion = 0\n",
    "while (numero_iteracion < iteraciones):\n",
    "    print(\"Este tipo de dato en Pyhton es: \\n\" + str(type(input(\"Ingrese un valor cualquiera: \"))))\n",
    "    numero_iteracion = numero_iteracion + 1\n",
    "print(\"¡YA NO SE HARÁN MÁS INTERACCIONES!\")"
   ]
  },
  {
   "cell_type": "markdown",
   "id": "f9992275",
   "metadata": {},
   "source": []
  },
  {
   "cell_type": "code",
   "execution_count": 17,
   "id": "acd409bd",
   "metadata": {},
   "outputs": [
    {
     "name": "stdout",
     "output_type": "stream",
     "text": [
      "Arreglo par: [20, 4, 6, 100, 110, 900, 32, 2, 4, 8, 10, 16, 1302]\n",
      "Arreglo impar: [15, 3, 91, 5, 7, 91, 21, 33, 13, 13, 15]\n",
      "Arreglo valores atipicos: [900, 1302]\n"
     ]
    }
   ],
   "source": [
    "Datos_2021 = [15, 20, 3,91,4, 5, 6, 7,100,91,110,900,21,33,32, 2, 4,8,10,13,13,16,15,1302]\n",
    "arreglo_par = []\n",
    "arreglo_impar = []\n",
    "arreglo_atipico = []\n",
    "sumatoria = 0\n",
    "for dato in Datos_2021:\n",
    "    if(dato % 2 == 0):\n",
    "        arreglo_par.append(dato)\n",
    "    else:\n",
    "        arreglo_impar.append(dato)\n",
    "    sumatoria = sumatoria + dato\n",
    "promedio = sumatoria / len(Datos_2021)\n",
    "for dato in Datos_2021:\n",
    "    if(dato > promedio):\n",
    "        arreglo_atipico.append(dato)\n",
    "print(f\"Arreglo par: {arreglo_par}\")\n",
    "print(f\"Arreglo impar: {arreglo_impar}\")\n",
    "print(f\"Arreglo valores atipicos: {arreglo_atipico}\")"
   ]
  },
  {
   "cell_type": "code",
   "execution_count": 43,
   "id": "62ffae16",
   "metadata": {},
   "outputs": [
    {
     "ename": "KeyboardInterrupt",
     "evalue": "Interrupted by user",
     "output_type": "error",
     "traceback": [
      "\u001b[0;31m---------------------------------------------------------------------------\u001b[0m",
      "\u001b[0;31mKeyboardInterrupt\u001b[0m                         Traceback (most recent call last)",
      "\u001b[0;32m<ipython-input-43-46ed81e67445>\u001b[0m in \u001b[0;36m<module>\u001b[0;34m\u001b[0m\n\u001b[0;32m----> 1\u001b[0;31m password_texto = input(\"\"\"\n\u001b[0m\u001b[1;32m      2\u001b[0m \u001b[0mPor\u001b[0m \u001b[0mfavor\u001b[0m \u001b[0mingrese\u001b[0m \u001b[0msu\u001b[0m \u001b[0mpassword\u001b[0m \u001b[0mcumpliendo\u001b[0m \u001b[0mestas\u001b[0m \u001b[0mvalidaciones\u001b[0m\u001b[0;34m:\u001b[0m\u001b[0;34m\u001b[0m\u001b[0;34m\u001b[0m\u001b[0m\n\u001b[1;32m      3\u001b[0m \u001b[0mDebe\u001b[0m \u001b[0mcontener\u001b[0m \u001b[0mal\u001b[0m \u001b[0mmenos\u001b[0m \u001b[0muna\u001b[0m \u001b[0mletra\u001b[0m \u001b[0mminúscula\u001b[0m \u001b[0mentre\u001b[0m \u001b[0mlas\u001b[0m \u001b[0mletras\u001b[0m\u001b[0;34m:\u001b[0m \u001b[0ma\u001b[0m\u001b[0;34m,\u001b[0m\u001b[0mb\u001b[0m\u001b[0;34m,\u001b[0m\u001b[0mc\u001b[0m\u001b[0;34m,\u001b[0m\u001b[0md\u001b[0m\u001b[0;34m,\u001b[0m\u001b[0me\u001b[0m\u001b[0;34m,\u001b[0m\u001b[0mf\u001b[0m\u001b[0;34m,\u001b[0m\u001b[0mg\u001b[0m\u001b[0;34m,\u001b[0m\u001b[0mh\u001b[0m\u001b[0;34m,\u001b[0m\u001b[0mi\u001b[0m\u001b[0;34m,\u001b[0m\u001b[0mj\u001b[0m\u001b[0;34m.\u001b[0m\u001b[0;34m\u001b[0m\u001b[0;34m\u001b[0m\u001b[0m\n\u001b[1;32m      4\u001b[0m \u001b[0mDebe\u001b[0m \u001b[0mcontener\u001b[0m \u001b[0mal\u001b[0m \u001b[0mmenos\u001b[0m \u001b[0muna\u001b[0m \u001b[0mletra\u001b[0m \u001b[0mmayúscula\u001b[0m \u001b[0mentre\u001b[0m \u001b[0mlas\u001b[0m \u001b[0mletras\u001b[0m\u001b[0;34m:\u001b[0m \u001b[0mK\u001b[0m\u001b[0;34m,\u001b[0m\u001b[0mL\u001b[0m\u001b[0;34m,\u001b[0m\u001b[0mM\u001b[0m\u001b[0;34m,\u001b[0m\u001b[0mN\u001b[0m\u001b[0;34m,\u001b[0m\u001b[0mO\u001b[0m\u001b[0;34m,\u001b[0m\u001b[0mP\u001b[0m\u001b[0;34m,\u001b[0m\u001b[0mQ\u001b[0m\u001b[0;34m,\u001b[0m\u001b[0mR\u001b[0m\u001b[0;34m,\u001b[0m\u001b[0mS\u001b[0m\u001b[0;34m,\u001b[0m\u001b[0mT\u001b[0m\u001b[0;34m.\u001b[0m\u001b[0;34m\u001b[0m\u001b[0;34m\u001b[0m\u001b[0m\n\u001b[1;32m      5\u001b[0m \u001b[0mDebe\u001b[0m \u001b[0mcontener\u001b[0m \u001b[0mal\u001b[0m \u001b[0mmenos\u001b[0m \u001b[0mun\u001b[0m \u001b[0mnúmero\u001b[0m \u001b[0mentre\u001b[0m \u001b[0;36m0\u001b[0m \u001b[0my\u001b[0m \u001b[0;36m9.\u001b[0m\u001b[0;34m\u001b[0m\u001b[0;34m\u001b[0m\u001b[0m\n",
      "\u001b[0;32m~/anaconda3/lib/python3.8/site-packages/ipykernel/kernelbase.py\u001b[0m in \u001b[0;36mraw_input\u001b[0;34m(self, prompt)\u001b[0m\n\u001b[1;32m    858\u001b[0m                 \u001b[0;34m\"raw_input was called, but this frontend does not support input requests.\"\u001b[0m\u001b[0;34m\u001b[0m\u001b[0;34m\u001b[0m\u001b[0m\n\u001b[1;32m    859\u001b[0m             )\n\u001b[0;32m--> 860\u001b[0;31m         return self._input_request(str(prompt),\n\u001b[0m\u001b[1;32m    861\u001b[0m             \u001b[0mself\u001b[0m\u001b[0;34m.\u001b[0m\u001b[0m_parent_ident\u001b[0m\u001b[0;34m,\u001b[0m\u001b[0;34m\u001b[0m\u001b[0;34m\u001b[0m\u001b[0m\n\u001b[1;32m    862\u001b[0m             \u001b[0mself\u001b[0m\u001b[0;34m.\u001b[0m\u001b[0m_parent_header\u001b[0m\u001b[0;34m,\u001b[0m\u001b[0;34m\u001b[0m\u001b[0;34m\u001b[0m\u001b[0m\n",
      "\u001b[0;32m~/anaconda3/lib/python3.8/site-packages/ipykernel/kernelbase.py\u001b[0m in \u001b[0;36m_input_request\u001b[0;34m(self, prompt, ident, parent, password)\u001b[0m\n\u001b[1;32m    902\u001b[0m             \u001b[0;32mexcept\u001b[0m \u001b[0mKeyboardInterrupt\u001b[0m\u001b[0;34m:\u001b[0m\u001b[0;34m\u001b[0m\u001b[0;34m\u001b[0m\u001b[0m\n\u001b[1;32m    903\u001b[0m                 \u001b[0;31m# re-raise KeyboardInterrupt, to truncate traceback\u001b[0m\u001b[0;34m\u001b[0m\u001b[0;34m\u001b[0m\u001b[0;34m\u001b[0m\u001b[0m\n\u001b[0;32m--> 904\u001b[0;31m                 \u001b[0;32mraise\u001b[0m \u001b[0mKeyboardInterrupt\u001b[0m\u001b[0;34m(\u001b[0m\u001b[0;34m\"Interrupted by user\"\u001b[0m\u001b[0;34m)\u001b[0m \u001b[0;32mfrom\u001b[0m \u001b[0;32mNone\u001b[0m\u001b[0;34m\u001b[0m\u001b[0;34m\u001b[0m\u001b[0m\n\u001b[0m\u001b[1;32m    905\u001b[0m             \u001b[0;32mexcept\u001b[0m \u001b[0mException\u001b[0m \u001b[0;32mas\u001b[0m \u001b[0me\u001b[0m\u001b[0;34m:\u001b[0m\u001b[0;34m\u001b[0m\u001b[0;34m\u001b[0m\u001b[0m\n\u001b[1;32m    906\u001b[0m                 \u001b[0mself\u001b[0m\u001b[0;34m.\u001b[0m\u001b[0mlog\u001b[0m\u001b[0;34m.\u001b[0m\u001b[0mwarning\u001b[0m\u001b[0;34m(\u001b[0m\u001b[0;34m\"Invalid Message:\"\u001b[0m\u001b[0;34m,\u001b[0m \u001b[0mexc_info\u001b[0m\u001b[0;34m=\u001b[0m\u001b[0;32mTrue\u001b[0m\u001b[0;34m)\u001b[0m\u001b[0;34m\u001b[0m\u001b[0;34m\u001b[0m\u001b[0m\n",
      "\u001b[0;31mKeyboardInterrupt\u001b[0m: Interrupted by user"
     ]
    }
   ],
   "source": [
    "password_texto = input(\"\"\"\n",
    "Por favor ingrese su password cumpliendo estas validaciones:\n",
    "Debe contener al menos una letra minúscula entre las letras: a,b,c,d,e,f,g,h,i,j.\n",
    "Debe contener al menos una letra mayúscula entre las letras: K,L,M,N,O,P,Q,R,S,T.\n",
    "Debe contener al menos un número entre 0 y 9.\n",
    "Debe contener un símbolo especial entre: $,%,*,@\n",
    "Tamaño mínimo de 5 caracteres y máximo de 15.\n",
    "\"\"\")\n",
    "\"a\".count(\"a\")\n",
    "\n",
    "def tiene_caracteres(arreglo_caracteres, texto):\n",
    "    tiene_caracter = False\n",
    "    for caracter in arreglo_caracteres:\n",
    "        if(texto.count(caracter) > 0):\n",
    "            tiene_caracter = True\n",
    "    return tiene_caracter\n",
    "\n",
    "\n",
    "def validar_password(password):\n",
    "    tiene_minuscula = tiene_caracteres([\"a\",\"b\",\"c\",\"d\",\"e\",\"f\",\"g\",\"h\",\"i\",\"j\"], password)\n",
    "    tiene_mayuscula = tiene_caracteres([\"K\",\"L\",\"M\",\"N\",\"O\",\"P\",\"Q\",\"R\",\"S\",\"T\"], password)\n",
    "    tiene_numero = tiene_caracteres([\"0\",\"1\",\"2\",\"3\",\"4\",\"5\",\"6\",\"7\",\"8\",\"9\"], password)\n",
    "    tiene_simbolo = tiene_caracteres([\"$\",\"%\",\"*\",\"@\"], password)\n",
    "    longitud = len(password)\n",
    "    esta_entre_5_15 = longitud >= 5 and longitud <= 15\n",
    "    if(tiene_mayuscula and tiene_minuscula and tiene_numero and tiene_simbolo and esta_entre_5_15):\n",
    "        return True\n",
    "    else:\n",
    "        return False\n",
    "    \n",
    "password_valida = validar_password(password_texto)\n",
    "if(password_valida):\n",
    "    print(\"Password valida\")\n",
    "else:\n",
    "    print(\"Password invalida\")\n",
    "\n"
   ]
  },
  {
   "cell_type": "code",
   "execution_count": 53,
   "id": "43e5bec4",
   "metadata": {},
   "outputs": [
    {
     "name": "stdout",
     "output_type": "stream",
     "text": [
      "\n",
      "    Seleccione una de las opciones (Ej: 1):\n",
      "    1) Demostración del cálculo de valores altos y bajos en diccionarios.\n",
      "    2) Salir\n",
      "    1\n",
      "\n",
      "        Elija un diccionario para la demostración:\n",
      "        1) {Raul:34,Paula:19,Jorge:43,Richard:10,Diana:3,Isabel:76,Gustavo:12,Diego:37}\n",
      "        2) {tplA:(4,-12,56,-34,98,102),tplB:(9,0,1,10,-3,14),tlpC:(87,12,56,987,-61)}\n",
      "        3) {val1:-12.5,val2:12.5,val3:83,val4:2.1,val5:23,val6:100,val7:13.4,val8:92}\n",
      "        4) {lst1:[4,6,-12,56,-9,5.7,33,100],lst2:[9,0,81,-2,-56,],lst3:[12,31,87,1,0,4,-11]}\n",
      "        1\n",
      "Ingrese el numero de valores altos entre 0 y 8: 3\n",
      "Ingrese el numero de valores bajos entre 0 y 8: 3\n",
      "Lista menores\n",
      "[3, 10, 12]\n",
      "Lista mayores\n",
      "[37, 43, 76]\n",
      "\n",
      "    Seleccione una de las opciones (Ej: 1):\n",
      "    1) Demostración del cálculo de valores altos y bajos en diccionarios.\n",
      "    2) Salir\n",
      "    1\n",
      "\n",
      "        Elija un diccionario para la demostración:\n",
      "        1) {Raul:34,Paula:19,Jorge:43,Richard:10,Diana:3,Isabel:76,Gustavo:12,Diego:37}\n",
      "        2) {tplA:(4,-12,56,-34,98,102),tplB:(9,0,1,10,-3,14),tlpC:(87,12,56,987,-61)}\n",
      "        3) {val1:-12.5,val2:12.5,val3:83,val4:2.1,val5:23,val6:100,val7:13.4,val8:92}\n",
      "        4) {lst1:[4,6,-12,56,-9,5.7,33,100],lst2:[9,0,81,-2,-56,],lst3:[12,31,87,1,0,4,-11]}\n",
      "        2\n",
      "Ingrese el numero de valores altos entre 0 y 17: 5\n",
      "Ingrese el numero de valores bajos entre 0 y 17: 5\n",
      "Lista menores\n",
      "[-61, -34, -12, -3, 0]\n",
      "Lista mayores\n",
      "[56, 87, 98, 102, 987]\n",
      "\n",
      "    Seleccione una de las opciones (Ej: 1):\n",
      "    1) Demostración del cálculo de valores altos y bajos en diccionarios.\n",
      "    2) Salir\n",
      "    1\n",
      "\n",
      "        Elija un diccionario para la demostración:\n",
      "        1) {Raul:34,Paula:19,Jorge:43,Richard:10,Diana:3,Isabel:76,Gustavo:12,Diego:37}\n",
      "        2) {tplA:(4,-12,56,-34,98,102),tplB:(9,0,1,10,-3,14),tlpC:(87,12,56,987,-61)}\n",
      "        3) {val1:-12.5,val2:12.5,val3:83,val4:2.1,val5:23,val6:100,val7:13.4,val8:92}\n",
      "        4) {lst1:[4,6,-12,56,-9,5.7,33,100],lst2:[9,0,81,-2,-56,],lst3:[12,31,87,1,0,4,-11]}\n",
      "        3\n",
      "Ingrese el numero de valores altos entre 0 y 8: 5\n",
      "Ingrese el numero de valores bajos entre 0 y 8: 5\n",
      "Lista menores\n",
      "[-12.5, 2.1, 12.5, 13.4, 23]\n",
      "Lista mayores\n",
      "[13.4, 23, 83, 92, 100]\n",
      "\n",
      "    Seleccione una de las opciones (Ej: 1):\n",
      "    1) Demostración del cálculo de valores altos y bajos en diccionarios.\n",
      "    2) Salir\n",
      "    1\n",
      "\n",
      "        Elija un diccionario para la demostración:\n",
      "        1) {Raul:34,Paula:19,Jorge:43,Richard:10,Diana:3,Isabel:76,Gustavo:12,Diego:37}\n",
      "        2) {tplA:(4,-12,56,-34,98,102),tplB:(9,0,1,10,-3,14),tlpC:(87,12,56,987,-61)}\n",
      "        3) {val1:-12.5,val2:12.5,val3:83,val4:2.1,val5:23,val6:100,val7:13.4,val8:92}\n",
      "        4) {lst1:[4,6,-12,56,-9,5.7,33,100],lst2:[9,0,81,-2,-56,],lst3:[12,31,87,1,0,4,-11]}\n",
      "        4\n",
      "Ingrese el numero de valores altos entre 0 y 20: 3\n",
      "Ingrese el numero de valores bajos entre 0 y 20: 2\n",
      "Lista menores\n",
      "[-56, -12]\n",
      "Lista mayores\n",
      "[81, 87, 100]\n",
      "\n",
      "    Seleccione una de las opciones (Ej: 1):\n",
      "    1) Demostración del cálculo de valores altos y bajos en diccionarios.\n",
      "    2) Salir\n",
      "    2\n"
     ]
    }
   ],
   "source": [
    "opcion = \"\"\n",
    "        \n",
    "def obtener_valores(diccionario):\n",
    "    arreglo_numeros = []\n",
    "    valores_diccionario = diccionario.values()\n",
    "    for valor in valores_diccionario:\n",
    "        tipo = type(valor)\n",
    "        lista = isinstance(valor, list) == True\n",
    "        tupla = isinstance(valor, tuple) == True\n",
    "        es_lista = isinstance(valor, list) == True\n",
    "        es_tupla = isinstance(valor, tuple) == True\n",
    "        if(es_lista or es_tupla):\n",
    "            for valor_arreglo in valor:\n",
    "                arreglo_numeros.append(valor_arreglo)\n",
    "        else:\n",
    "            arreglo_numeros.append(valor)\n",
    "    return arreglo_numeros\n",
    "\n",
    "def obtener_longitud(diccionario):\n",
    "    arreglo_numeros = []\n",
    "    valores_diccionario = diccionario.values()\n",
    "    for valor in valores_diccionario:\n",
    "        tipo = type(valor)\n",
    "        es_lista = isinstance(valor, list) == True\n",
    "        es_tupla = isinstance(valor, tuple) == True\n",
    "        if(es_lista or es_tupla):\n",
    "            for valor_arreglo in valor:\n",
    "                arreglo_numeros.append(valor_arreglo)\n",
    "        else:\n",
    "            arreglo_numeros.append(valor)\n",
    "    return len(arreglo_numeros)\n",
    "\n",
    "while opcion != \"2\":\n",
    "    opcion = input (\"\"\"\n",
    "    Seleccione una de las opciones (Ej: 1):\n",
    "    1) Demostración del cálculo de valores altos y bajos en diccionarios.\n",
    "    2) Salir\n",
    "    \"\"\")\n",
    "    if(opcion == \"1\"):\n",
    "        \n",
    "        dic_uno = {\"Raul\":34,\"Paula\":19,\"Jorge\":43,\"Richard\":10,\"Diana\":3,\"Isabel\":76,\"Gustavo\":12,\"Diego\":37} \n",
    "        longitud_dic_uno = obtener_longitud(dic_uno)\n",
    "        \n",
    "        dic_dos = {\"tplA\":(4,-12,56,-34,98,102),\"tplB\":(9,0,1,10,-3,14),\"tlpC\":(87,12,56,987,-61)}\n",
    "        longitud_dic_dos = obtener_longitud(dic_dos)\n",
    "        \n",
    "        dic_tres = {\"val1\":-12.5,\"val2\":12.5,\"val3\":83,\"val4\":2.1,\"val5\":23,\"val6\":100,\"val7\":13.4,\"val8\":92}\n",
    "        longitud_dic_tres = obtener_longitud(dic_tres)\n",
    "        \n",
    "        dic_cuatro = {\"lst1\":[4,6,-12,56,-9,5.7,33,100],\"lst2\":[9,0,81,-2,-56,],\"lst3\":[12,31,87,1,0,4,-11]}\n",
    "        longitud_dic_cuatro = obtener_longitud(dic_cuatro)\n",
    "        \n",
    "        opcion_diccionario = input(\"\"\"\n",
    "        Elija un diccionario para la demostración:\n",
    "        1) {Raul:34,Paula:19,Jorge:43,Richard:10,Diana:3,Isabel:76,Gustavo:12,Diego:37}\n",
    "        2) {tplA:(4,-12,56,-34,98,102),tplB:(9,0,1,10,-3,14),tlpC:(87,12,56,987,-61)}\n",
    "        3) {val1:-12.5,val2:12.5,val3:83,val4:2.1,val5:23,val6:100,val7:13.4,val8:92}\n",
    "        4) {lst1:[4,6,-12,56,-9,5.7,33,100],lst2:[9,0,81,-2,-56,],lst3:[12,31,87,1,0,4,-11]}\n",
    "        \"\"\")\n",
    "        if(opcion_diccionario == \"1\" or opcion_diccionario == \"2\" or opcion_diccionario == \"3\" or opcion_diccionario == \"4\"):\n",
    "            longitud_maxima = 0\n",
    "            if(opcion_diccionario == \"1\"):\n",
    "                longitud_maxima = longitud_dic_uno\n",
    "            if(opcion_diccionario == \"2\"):\n",
    "                longitud_maxima = longitud_dic_dos\n",
    "            if(opcion_diccionario == \"3\"):\n",
    "                longitud_maxima = longitud_dic_tres\n",
    "            if(opcion_diccionario == \"4\"):\n",
    "                longitud_maxima = longitud_dic_cuatro\n",
    "            numero_altos = int(input(f\"Ingrese el numero de valores altos entre 0 y {longitud_maxima}: \"))\n",
    "            numero_bajos = int(input(f\"Ingrese el numero de valores bajos entre 0 y {longitud_maxima}: \"))\n",
    "            if(numero_altos > longitud_maxima or numero_altos < 0 or numero_bajos > longitud_maxima or numero_bajos < 0):\n",
    "                print(\"El numero de bajos o altos fue seleccionado fuera del rango\")\n",
    "            else:\n",
    "                lista_valores = []\n",
    "                if(opcion_diccionario == \"1\"):\n",
    "                    lista_valores = obtener_valores(dic_uno)\n",
    "                if(opcion_diccionario == \"2\"):\n",
    "                    lista_valores = obtener_valores(dic_dos)\n",
    "                if(opcion_diccionario == \"3\"):\n",
    "                    lista_valores = obtener_valores(dic_tres)\n",
    "                if(opcion_diccionario == \"4\"):\n",
    "                    lista_valores = obtener_valores(dic_cuatro)\n",
    "                lista_valores.sort()\n",
    "                print(\"MENORES\")\n",
    "                print(\"Lista menores tupla\")\n",
    "                print(tuple(lista_valores[:numero_bajos]lista_valores[:numero_bajos]))\n",
    "                print(\"Lista menores lista\")\n",
    "                print(lista_valores[:numero_bajos])\n",
    "                print(\"MAYORES\")\n",
    "                print(\"Lista mayores tupla\")\n",
    "                print(tuple(lista_valores[-1 * (numero_altos):]))\n",
    "                print(\"Lista mayores lista\")\n",
    "                print(lista_valores[-1 * (numero_altos):])\n",
    "            \n",
    "        else:\n",
    "            print(\"No selecciono una opcion de diccionario correcto\")\n",
    "    else:\n",
    "        if(opcion != \"2\"):\n",
    "            print(\"Seleccione una opcion correcta\")\n",
    "\n"
   ]
  },
  {
   "cell_type": "markdown",
   "id": "dcdea520",
   "metadata": {},
   "source": [
    "float(1)"
   ]
  },
  {
   "cell_type": "code",
   "execution_count": 40,
   "id": "33fd0a31",
   "metadata": {},
   "outputs": [
    {
     "data": {
      "text/plain": [
       "tuple"
      ]
     },
     "execution_count": 40,
     "metadata": {},
     "output_type": "execute_result"
    }
   ],
   "source": [
    "type((1,2))"
   ]
  },
  {
   "cell_type": "code",
   "execution_count": 48,
   "id": "cb6e5e35",
   "metadata": {},
   "outputs": [
    {
     "data": {
      "text/plain": [
       "True"
      ]
     },
     "execution_count": 48,
     "metadata": {},
     "output_type": "execute_result"
    }
   ],
   "source": [
    "isinstance([1,2], list)"
   ]
  },
  {
   "cell_type": "code",
   "execution_count": null,
   "id": "dfbb32c9",
   "metadata": {},
   "outputs": [],
   "source": []
  },
  {
   "cell_type": "code",
   "execution_count": null,
   "id": "6b463cf5",
   "metadata": {},
   "outputs": [],
   "source": []
  },
  {
   "cell_type": "code",
   "execution_count": null,
   "id": "2e9a8218",
   "metadata": {},
   "outputs": [],
   "source": []
  },
  {
   "cell_type": "code",
   "execution_count": null,
   "id": "6e2fc549",
   "metadata": {},
   "outputs": [],
   "source": []
  },
  {
   "cell_type": "code",
   "execution_count": null,
   "id": "b018c915",
   "metadata": {},
   "outputs": [],
   "source": []
  },
  {
   "cell_type": "code",
   "execution_count": null,
   "id": "5ff43a53",
   "metadata": {},
   "outputs": [],
   "source": []
  },
  {
   "cell_type": "code",
   "execution_count": null,
   "id": "e7b3dfc9",
   "metadata": {},
   "outputs": [],
   "source": []
  },
  {
   "cell_type": "code",
   "execution_count": null,
   "id": "0b7bbcca",
   "metadata": {},
   "outputs": [],
   "source": []
  },
  {
   "cell_type": "code",
   "execution_count": null,
   "id": "0f47fc30",
   "metadata": {},
   "outputs": [],
   "source": []
  }
 ],
 "metadata": {
  "kernelspec": {
   "display_name": "Python 3",
   "language": "python",
   "name": "python3"
  },
  "language_info": {
   "codemirror_mode": {
    "name": "ipython",
    "version": 3
   },
   "file_extension": ".py",
   "mimetype": "text/x-python",
   "name": "python",
   "nbconvert_exporter": "python",
   "pygments_lexer": "ipython3",
   "version": "3.8.8"
  }
 },
 "nbformat": 4,
 "nbformat_minor": 5
}
